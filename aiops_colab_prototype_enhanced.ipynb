{
 "cells": [
  {
   "cell_type": "code",
   "execution_count": null,
   "id": "ad4ccbde",
   "metadata": {},
   "outputs": [],
   "source": [
    "# AIOps Ticket Automation Classifier (Prototype with SLA Weighting)"
   ]
  },
  {
   "cell_type": "code",
   "execution_count": null,
   "id": "0b885977",
   "metadata": {},
   "outputs": [],
   "source": [
    "# This notebook demonstrates a decision tree model to classify IT support tickets\n",
    "# as either candidates for automation or needing human escalation.\n",
    "# It includes a simple SLA-based weighting logic for more realistic labeling."
   ]
  },
  {
   "cell_type": "code",
   "execution_count": null,
   "id": "62acdcf5",
   "metadata": {},
   "outputs": [],
   "source": [
    "import pandas as pd\n",
    "import numpy as np\n",
    "from sklearn.tree import DecisionTreeClassifier, plot_tree\n",
    "from sklearn.model_selection import train_test_split\n",
    "from sklearn.metrics import classification_report\n",
    "import matplotlib.pyplot as plt"
   ]
  },
  {
   "cell_type": "code",
   "execution_count": null,
   "id": "4d12f0a8",
   "metadata": {},
   "outputs": [],
   "source": [
    "# Step 1: Generate synthetic ticket data\n",
    "np.random.seed(42)\n",
    "data = {\n",
    "    'priority': np.random.choice(['low', 'medium', 'high'], size=200),\n",
    "    'ticket_age_minutes': np.random.randint(5, 1200, size=200),\n",
    "    'sla_violation_risk': np.random.uniform(0, 1, size=200),\n",
    "    'service_type': np.random.choice(['email', 'database', 'storage', 'network'], size=200),\n",
    "    'previous_incidents': np.random.randint(0, 10, size=200)\n",
    "}"
   ]
  },
  {
   "cell_type": "code",
   "execution_count": null,
   "id": "e5de7c06",
   "metadata": {},
   "outputs": [],
   "source": [
    "# Step 2: SLA-weighted automation decision (label)\n",
    "# The higher the SLA risk, the more likely escalation is needed\n",
    "sla_weight = data['sla_violation_risk']\n",
    "automate_raw = np.random.uniform(0, 1, size=200) - sla_weight\n",
    "data['automate_decision'] = (automate_raw > 0).astype(int)"
   ]
  },
  {
   "cell_type": "code",
   "execution_count": null,
   "id": "e02b7096",
   "metadata": {},
   "outputs": [],
   "source": [
    "df = pd.DataFrame(data)"
   ]
  },
  {
   "cell_type": "code",
   "execution_count": null,
   "id": "2fc1abe5",
   "metadata": {},
   "outputs": [],
   "source": [
    "# Step 3: Encode categorical variables\n",
    "df_encoded = pd.get_dummies(df, columns=['priority', 'service_type'], drop_first=True)"
   ]
  },
  {
   "cell_type": "code",
   "execution_count": null,
   "id": "cdaa4e6b",
   "metadata": {},
   "outputs": [],
   "source": [
    "# Step 4: Split data\n",
    "X = df_encoded.drop('automate_decision', axis=1)\n",
    "y = df_encoded['automate_decision']\n",
    "X_train, X_test, y_train, y_test = train_test_split(X, y, test_size=0.2, random_state=42)"
   ]
  },
  {
   "cell_type": "code",
   "execution_count": null,
   "id": "27b5c6a0",
   "metadata": {},
   "outputs": [],
   "source": [
    "# Step 5: Train model\n",
    "clf = DecisionTreeClassifier(max_depth=4, random_state=42)\n",
    "clf.fit(X_train, y_train)"
   ]
  },
  {
   "cell_type": "code",
   "execution_count": null,
   "id": "7b8f185a",
   "metadata": {},
   "outputs": [],
   "source": [
    "# Step 6: Evaluate\n",
    "y_pred = clf.predict(X_test)\n",
    "print(\"Classification Report:\")\n",
    "print(classification_report(y_test, y_pred))"
   ]
  },
  {
   "cell_type": "code",
   "execution_count": null,
   "id": "cf44a1bb",
   "metadata": {},
   "outputs": [],
   "source": [
    "# Step 7: Visualize decision tree\n",
    "plt.figure(figsize=(20, 10))\n",
    "plot_tree(clf, feature_names=X.columns, class_names=['Escalate', 'Automate'], filled=True)\n",
    "plt.title(\"Decision Tree for AIOps Ticket Classification\")\n",
    "plt.show()"
   ]
  }
 ],
 "metadata": {},
 "nbformat": 4,
 "nbformat_minor": 5
}
